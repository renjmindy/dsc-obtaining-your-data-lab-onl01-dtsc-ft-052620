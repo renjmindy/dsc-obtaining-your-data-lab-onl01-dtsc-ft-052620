{
 "cells": [
  {
   "cell_type": "markdown",
   "metadata": {},
   "source": [
    "# Obtaining Your Data - Lab"
   ]
  },
  {
   "cell_type": "markdown",
   "metadata": {},
   "source": [
    "## Introduction\n",
    "In this lab you'll practice your munging and transforming skills in order to load in your data to solve a regression problem."
   ]
  },
  {
   "cell_type": "markdown",
   "metadata": {},
   "source": [
    "## Objectives\n",
    "You will be able to:\n",
    "* Perform an ETL process with multiple tables and create a single dataset"
   ]
  },
  {
   "cell_type": "markdown",
   "metadata": {},
   "source": [
    "## Task Description\n",
    "\n",
    "You just got hired by Lego! Your first project is going to be to develop a pricing algorithm to help set a target price for new lego sets that are released to market. To do this, you're first going to need to start mining the company database in order to collect the information you need to develop a model.\n",
    "\n",
    "Start by investigating the database stored in lego.db and joining the tables into a unified dataset!\n",
    "\n",
    "> **Hint:** use this SQL query to preview the tables in an unknown database:\n",
    "```sql\n",
    "SELECT name FROM sqlite_master\n",
    "            WHERE type='table'\n",
    "            ORDER BY name;\n",
    "```"
   ]
  },
  {
   "cell_type": "code",
   "execution_count": 1,
   "metadata": {
    "ExecuteTime": {
     "end_time": "2020-07-11T18:25:10.150699Z",
     "start_time": "2020-07-11T18:25:08.865625Z"
    }
   },
   "outputs": [
    {
     "data": {
      "text/html": [
       "<div>\n",
       "<style scoped>\n",
       "    .dataframe tbody tr th:only-of-type {\n",
       "        vertical-align: middle;\n",
       "    }\n",
       "\n",
       "    .dataframe tbody tr th {\n",
       "        vertical-align: top;\n",
       "    }\n",
       "\n",
       "    .dataframe thead th {\n",
       "        text-align: right;\n",
       "    }\n",
       "</style>\n",
       "<table border=\"1\" class=\"dataframe\">\n",
       "  <thead>\n",
       "    <tr style=\"text-align: right;\">\n",
       "      <th></th>\n",
       "      <th>name</th>\n",
       "    </tr>\n",
       "  </thead>\n",
       "  <tbody>\n",
       "    <tr>\n",
       "      <td>0</td>\n",
       "      <td>product_details</td>\n",
       "    </tr>\n",
       "    <tr>\n",
       "      <td>1</td>\n",
       "      <td>product_info</td>\n",
       "    </tr>\n",
       "    <tr>\n",
       "      <td>2</td>\n",
       "      <td>product_pricing</td>\n",
       "    </tr>\n",
       "    <tr>\n",
       "      <td>3</td>\n",
       "      <td>product_reviews</td>\n",
       "    </tr>\n",
       "  </tbody>\n",
       "</table>\n",
       "</div>"
      ],
      "text/plain": [
       "              name\n",
       "0  product_details\n",
       "1     product_info\n",
       "2  product_pricing\n",
       "3  product_reviews"
      ]
     },
     "execution_count": 1,
     "metadata": {},
     "output_type": "execute_result"
    }
   ],
   "source": [
    "# Your code here\n",
    "import sqlite3\n",
    "import pandas as pd\n",
    "\n",
    "conn = sqlite3.connect('lego.db')\n",
    "cur = conn.cursor()\n",
    "\n",
    "tables = cur.execute(\"\"\"\n",
    "                     SELECT name \n",
    "                     FROM sqlite_master\n",
    "                     WHERE type='table'\n",
    "                     ORDER BY name;\n",
    "                     \"\"\").fetchall()\n",
    "\n",
    "# Take results and create DataFrame\n",
    "df1 = pd.DataFrame(tables) \n",
    "df1.columns = [i[0] for i in cur.description]\n",
    "df1.head()"
   ]
  },
  {
   "cell_type": "code",
   "execution_count": 2,
   "metadata": {
    "ExecuteTime": {
     "end_time": "2020-07-11T18:25:15.829859Z",
     "start_time": "2020-07-11T18:25:15.823858Z"
    }
   },
   "outputs": [
    {
     "data": {
      "text/plain": [
       "[('product_details',),\n",
       " ('product_info',),\n",
       " ('product_pricing',),\n",
       " ('product_reviews',)]"
      ]
     },
     "execution_count": 2,
     "metadata": {},
     "output_type": "execute_result"
    }
   ],
   "source": [
    "tables"
   ]
  },
  {
   "cell_type": "code",
   "execution_count": 3,
   "metadata": {
    "ExecuteTime": {
     "end_time": "2020-07-11T18:25:17.097779Z",
     "start_time": "2020-07-11T18:25:17.092777Z"
    }
   },
   "outputs": [
    {
     "data": {
      "text/plain": [
       "('product_details',)"
      ]
     },
     "execution_count": 3,
     "metadata": {},
     "output_type": "execute_result"
    }
   ],
   "source": [
    "tables[0]"
   ]
  },
  {
   "cell_type": "code",
   "execution_count": 4,
   "metadata": {
    "ExecuteTime": {
     "end_time": "2020-07-11T18:25:17.627842Z",
     "start_time": "2020-07-11T18:25:17.622842Z"
    }
   },
   "outputs": [
    {
     "data": {
      "text/plain": [
       "'product_details'"
      ]
     },
     "execution_count": 4,
     "metadata": {},
     "output_type": "execute_result"
    }
   ],
   "source": [
    "tables[0][0]"
   ]
  },
  {
   "cell_type": "code",
   "execution_count": 5,
   "metadata": {
    "ExecuteTime": {
     "end_time": "2020-07-11T18:25:18.109393Z",
     "start_time": "2020-07-11T18:25:18.091392Z"
    }
   },
   "outputs": [
    {
     "data": {
      "text/html": [
       "<div>\n",
       "<style scoped>\n",
       "    .dataframe tbody tr th:only-of-type {\n",
       "        vertical-align: middle;\n",
       "    }\n",
       "\n",
       "    .dataframe tbody tr th {\n",
       "        vertical-align: top;\n",
       "    }\n",
       "\n",
       "    .dataframe thead th {\n",
       "        text-align: right;\n",
       "    }\n",
       "</style>\n",
       "<table border=\"1\" class=\"dataframe\">\n",
       "  <thead>\n",
       "    <tr style=\"text-align: right;\">\n",
       "      <th></th>\n",
       "      <th>type</th>\n",
       "      <th>name</th>\n",
       "      <th>tbl_name</th>\n",
       "      <th>rootpage</th>\n",
       "      <th>sql</th>\n",
       "    </tr>\n",
       "  </thead>\n",
       "  <tbody>\n",
       "    <tr>\n",
       "      <td>0</td>\n",
       "      <td>table</td>\n",
       "      <td>product_details</td>\n",
       "      <td>product_details</td>\n",
       "      <td>5</td>\n",
       "      <td>CREATE TABLE product_details (prod_id INTEGER ...</td>\n",
       "    </tr>\n",
       "    <tr>\n",
       "      <td>1</td>\n",
       "      <td>table</td>\n",
       "      <td>product_info</td>\n",
       "      <td>product_info</td>\n",
       "      <td>2</td>\n",
       "      <td>CREATE TABLE product_info (prod_id INTEGER PRI...</td>\n",
       "    </tr>\n",
       "    <tr>\n",
       "      <td>2</td>\n",
       "      <td>table</td>\n",
       "      <td>product_pricing</td>\n",
       "      <td>product_pricing</td>\n",
       "      <td>3</td>\n",
       "      <td>CREATE TABLE product_pricing (prod_id INTEGER ...</td>\n",
       "    </tr>\n",
       "    <tr>\n",
       "      <td>3</td>\n",
       "      <td>table</td>\n",
       "      <td>product_reviews</td>\n",
       "      <td>product_reviews</td>\n",
       "      <td>6</td>\n",
       "      <td>CREATE TABLE product_reviews (prod_id INTEGER ...</td>\n",
       "    </tr>\n",
       "  </tbody>\n",
       "</table>\n",
       "</div>"
      ],
      "text/plain": [
       "    type             name         tbl_name  rootpage  \\\n",
       "0  table  product_details  product_details         5   \n",
       "1  table     product_info     product_info         2   \n",
       "2  table  product_pricing  product_pricing         3   \n",
       "3  table  product_reviews  product_reviews         6   \n",
       "\n",
       "                                                 sql  \n",
       "0  CREATE TABLE product_details (prod_id INTEGER ...  \n",
       "1  CREATE TABLE product_info (prod_id INTEGER PRI...  \n",
       "2  CREATE TABLE product_pricing (prod_id INTEGER ...  \n",
       "3  CREATE TABLE product_reviews (prod_id INTEGER ...  "
      ]
     },
     "execution_count": 5,
     "metadata": {},
     "output_type": "execute_result"
    }
   ],
   "source": [
    "table_alls = cur.execute(\"\"\"\n",
    "                         SELECT * \n",
    "                         FROM sqlite_master\n",
    "                         WHERE type='table'\n",
    "                         ORDER BY name;\n",
    "                         \"\"\").fetchall()\n",
    "\n",
    "# Take results and create DataFrame\n",
    "df2 = pd.DataFrame(table_alls) \n",
    "df2.columns = [i[0] for i in cur.description]\n",
    "df2.head()"
   ]
  },
  {
   "cell_type": "code",
   "execution_count": 6,
   "metadata": {
    "ExecuteTime": {
     "end_time": "2020-07-11T18:25:18.705435Z",
     "start_time": "2020-07-11T18:25:18.695434Z"
    }
   },
   "outputs": [
    {
     "data": {
      "text/plain": [
       "[('table',\n",
       "  'product_details',\n",
       "  'product_details',\n",
       "  5,\n",
       "  'CREATE TABLE product_details (prod_id INTEGER PRIMARY KEY,\\n                                         prod_desc TEXT,\\n                                         prod_long_desc TEXT,\\n                                         theme_name TEXT\\n                                        )'),\n",
       " ('table',\n",
       "  'product_info',\n",
       "  'product_info',\n",
       "  2,\n",
       "  'CREATE TABLE product_info (prod_id INTEGER PRIMARY KEY,\\n                                         ages TEXT,\\n                                         piece_count INTEGER,\\n                                         set_name TEXT\\n                                        )'),\n",
       " ('table',\n",
       "  'product_pricing',\n",
       "  'product_pricing',\n",
       "  3,\n",
       "  'CREATE TABLE product_pricing (prod_id INTEGER NOT NULL,\\n                                           country TEXT NOT NULL,\\n                                           list_price TEXT,\\n                                           PRIMARY KEY(prod_id, country)\\n                                           )'),\n",
       " ('table',\n",
       "  'product_reviews',\n",
       "  'product_reviews',\n",
       "  6,\n",
       "  'CREATE TABLE product_reviews (prod_id INTEGER PRIMARY KEY,\\n                                                   num_reviews INTEGER,\\n                                                   play_star_rating REAL,\\n                                                   review_difficulty TEXT,\\n                                                   star_rating REAL,\\n                                                   val_star_rating REAL\\n                                        )')]"
      ]
     },
     "execution_count": 6,
     "metadata": {},
     "output_type": "execute_result"
    }
   ],
   "source": [
    "table_alls"
   ]
  },
  {
   "cell_type": "code",
   "execution_count": 7,
   "metadata": {
    "ExecuteTime": {
     "end_time": "2020-07-11T18:25:19.231443Z",
     "start_time": "2020-07-11T18:25:19.225444Z"
    }
   },
   "outputs": [
    {
     "data": {
      "text/plain": [
       "('table',\n",
       " 'product_details',\n",
       " 'product_details',\n",
       " 5,\n",
       " 'CREATE TABLE product_details (prod_id INTEGER PRIMARY KEY,\\n                                         prod_desc TEXT,\\n                                         prod_long_desc TEXT,\\n                                         theme_name TEXT\\n                                        )')"
      ]
     },
     "execution_count": 7,
     "metadata": {},
     "output_type": "execute_result"
    }
   ],
   "source": [
    "table_alls[0]"
   ]
  },
  {
   "cell_type": "code",
   "execution_count": 8,
   "metadata": {
    "ExecuteTime": {
     "end_time": "2020-07-11T18:25:19.726129Z",
     "start_time": "2020-07-11T18:25:19.720128Z"
    }
   },
   "outputs": [
    {
     "data": {
      "text/plain": [
       "'table'"
      ]
     },
     "execution_count": 8,
     "metadata": {},
     "output_type": "execute_result"
    }
   ],
   "source": [
    "table_alls[0][0]"
   ]
  },
  {
   "cell_type": "code",
   "execution_count": 9,
   "metadata": {
    "ExecuteTime": {
     "end_time": "2020-07-11T18:25:20.233434Z",
     "start_time": "2020-07-11T18:25:20.224434Z"
    }
   },
   "outputs": [
    {
     "data": {
      "text/plain": [
       "'product_details'"
      ]
     },
     "execution_count": 9,
     "metadata": {},
     "output_type": "execute_result"
    }
   ],
   "source": [
    "table_alls[0][1]"
   ]
  },
  {
   "cell_type": "code",
   "execution_count": 10,
   "metadata": {
    "ExecuteTime": {
     "end_time": "2020-07-11T18:25:20.787547Z",
     "start_time": "2020-07-11T18:25:20.776546Z"
    }
   },
   "outputs": [
    {
     "data": {
      "text/plain": [
       "'product_details'"
      ]
     },
     "execution_count": 10,
     "metadata": {},
     "output_type": "execute_result"
    }
   ],
   "source": [
    "table_alls[0][2]"
   ]
  },
  {
   "cell_type": "code",
   "execution_count": 11,
   "metadata": {
    "ExecuteTime": {
     "end_time": "2020-07-11T18:25:22.219613Z",
     "start_time": "2020-07-11T18:25:22.185613Z"
    }
   },
   "outputs": [
    {
     "name": "stdout",
     "output_type": "stream",
     "text": [
      "('product_details',) product_details\n",
      "**********************************************************************\n",
      "[(744,)]\n",
      "   prod_id prod_desc prod_long_desc       theme_name\n",
      "0      630      blah       blahblah          Classic\n",
      "1     2304      blah       blahblah           DUPLO®\n",
      "2     7280      blah       blahblah             City\n",
      "3     7281      blah       blahblah             City\n",
      "4     7499      blah       blahblah             City\n",
      "5     7895      blah       blahblah             City\n",
      "6     8293      blah       blahblah  Power Functions\n",
      "7     9843      blah       blahblah      MINDSTORMS®\n",
      "8    10214      blah       blahblah   Creator Expert\n",
      "9    10220      blah       blahblah   Creator Expert\n",
      "----------------------------------------------------------------------\n",
      "('product_info',) product_info\n",
      "**********************************************************************\n",
      "[(744,)]\n",
      "   prod_id  ages  piece_count                         set_name\n",
      "0      630    4+            1                  Brick Separator\n",
      "1     2304  1½-5            1     LEGO® DUPLO® Green Baseplate\n",
      "2     7280  5-12            2      Straight & Crossroad Plates\n",
      "3     7281  5-12            2  T-Junction & Curved Road Plates\n",
      "4     7499  5-12           24     Flexible and Straight Tracks\n",
      "5     7895  5-12            8                 Switching Tracks\n",
      "6     8293  9-16           10  LEGO® Power Functions Motor Set\n",
      "7     9843    8+            1                     Touch Sensor\n",
      "8    10214   16+         4295                     Tower Bridge\n",
      "9    10220   16+         1334         Volkswagen T1 Camper Van\n",
      "----------------------------------------------------------------------\n",
      "('product_pricing',) product_pricing\n",
      "**********************************************************************\n",
      "[(10870,)]\n",
      "   prod_id country list_price\n",
      "0    75823      US      29.99\n",
      "1    75822      US      19.99\n",
      "2    75821      US      12.99\n",
      "3    21030      US      99.99\n",
      "4    21035      US      79.99\n",
      "5    21039      US      59.99\n",
      "6    21028      US      59.99\n",
      "7    21029      US      49.99\n",
      "8    21034      US      39.99\n",
      "9    21033      US      39.99\n",
      "----------------------------------------------------------------------\n",
      "('product_reviews',) product_reviews\n",
      "**********************************************************************\n",
      "[(744,)]\n",
      "   prod_id  num_reviews  play_star_rating review_difficulty  star_rating  \\\n",
      "0      630          180               4.0         Very Easy          4.8   \n",
      "1     2304           15               4.4              Easy          4.0   \n",
      "2     7280           85               4.1         Very Easy          3.5   \n",
      "3     7281           40               4.1         Very Easy          3.9   \n",
      "4     7499           89               2.9              Easy          2.5   \n",
      "5     7895           47               4.2         Very Easy          4.1   \n",
      "6     8293           57               4.6              Easy          4.5   \n",
      "7     9843           13               3.8         Very Easy          3.8   \n",
      "8    10214          228               4.2       Challenging          4.8   \n",
      "9    10220          337               4.3       Challenging          4.7   \n",
      "\n",
      "   val_star_rating  \n",
      "0              4.6  \n",
      "1              3.3  \n",
      "2              2.3  \n",
      "3              2.8  \n",
      "4              2.2  \n",
      "5              3.6  \n",
      "6              3.9  \n",
      "7              3.5  \n",
      "8              4.6  \n",
      "9              4.5  \n",
      "----------------------------------------------------------------------\n"
     ]
    }
   ],
   "source": [
    "for t in tables:\n",
    "    \n",
    "    print(t,t[0])\n",
    "    print('**********************************************************************')\n",
    "    \n",
    "    size = cur.execute(\"\"\"\n",
    "                       SELECT COUNT(*) \n",
    "                       FROM {};\"\"\".format(t[0])).fetchall()\n",
    "    \n",
    "    table = cur.execute(\"\"\"SELECT * \n",
    "                           FROM {} \n",
    "                           LIMIT 10;\"\"\".format(t[0])).fetchall()\n",
    "    \n",
    "    df3 = pd.DataFrame(table) \n",
    "    df3.columns = [j[0] for j in cur.description]\n",
    "    print(size)\n",
    "    print(df3)\n",
    "    print('----------------------------------------------------------------------')"
   ]
  },
  {
   "cell_type": "code",
   "execution_count": 12,
   "metadata": {
    "ExecuteTime": {
     "end_time": "2020-07-11T18:28:11.482623Z",
     "start_time": "2020-07-11T18:28:11.442623Z"
    }
   },
   "outputs": [
    {
     "name": "stdout",
     "output_type": "stream",
     "text": [
      "('table', 'product_details', 'product_details', 5, 'CREATE TABLE product_details (prod_id INTEGER PRIMARY KEY,\\n                                         prod_desc TEXT,\\n                                         prod_long_desc TEXT,\\n                                         theme_name TEXT\\n                                        )') \n",
      "\n",
      "**********************************************************************\n",
      "table , product_details\n",
      "[(744,)]\n",
      "   prod_id prod_desc prod_long_desc       theme_name\n",
      "0      630      blah       blahblah          Classic\n",
      "1     2304      blah       blahblah           DUPLO®\n",
      "2     7280      blah       blahblah             City\n",
      "3     7281      blah       blahblah             City\n",
      "4     7499      blah       blahblah             City\n",
      "5     7895      blah       blahblah             City\n",
      "6     8293      blah       blahblah  Power Functions\n",
      "7     9843      blah       blahblah      MINDSTORMS®\n",
      "8    10214      blah       blahblah   Creator Expert\n",
      "9    10220      blah       blahblah   Creator Expert\n",
      "----------------------------------------------------------------------\n",
      "('table', 'product_info', 'product_info', 2, 'CREATE TABLE product_info (prod_id INTEGER PRIMARY KEY,\\n                                         ages TEXT,\\n                                         piece_count INTEGER,\\n                                         set_name TEXT\\n                                        )') \n",
      "\n",
      "**********************************************************************\n",
      "table , product_info\n",
      "[(744,)]\n",
      "   prod_id  ages  piece_count                         set_name\n",
      "0      630    4+            1                  Brick Separator\n",
      "1     2304  1½-5            1     LEGO® DUPLO® Green Baseplate\n",
      "2     7280  5-12            2      Straight & Crossroad Plates\n",
      "3     7281  5-12            2  T-Junction & Curved Road Plates\n",
      "4     7499  5-12           24     Flexible and Straight Tracks\n",
      "5     7895  5-12            8                 Switching Tracks\n",
      "6     8293  9-16           10  LEGO® Power Functions Motor Set\n",
      "7     9843    8+            1                     Touch Sensor\n",
      "8    10214   16+         4295                     Tower Bridge\n",
      "9    10220   16+         1334         Volkswagen T1 Camper Van\n",
      "----------------------------------------------------------------------\n",
      "('table', 'product_pricing', 'product_pricing', 3, 'CREATE TABLE product_pricing (prod_id INTEGER NOT NULL,\\n                                           country TEXT NOT NULL,\\n                                           list_price TEXT,\\n                                           PRIMARY KEY(prod_id, country)\\n                                           )') \n",
      "\n",
      "**********************************************************************\n",
      "table , product_pricing\n",
      "[(10870,)]\n",
      "   prod_id country list_price\n",
      "0    75823      US      29.99\n",
      "1    75822      US      19.99\n",
      "2    75821      US      12.99\n",
      "3    21030      US      99.99\n",
      "4    21035      US      79.99\n",
      "5    21039      US      59.99\n",
      "6    21028      US      59.99\n",
      "7    21029      US      49.99\n",
      "8    21034      US      39.99\n",
      "9    21033      US      39.99\n",
      "----------------------------------------------------------------------\n",
      "('table', 'product_reviews', 'product_reviews', 6, 'CREATE TABLE product_reviews (prod_id INTEGER PRIMARY KEY,\\n                                                   num_reviews INTEGER,\\n                                                   play_star_rating REAL,\\n                                                   review_difficulty TEXT,\\n                                                   star_rating REAL,\\n                                                   val_star_rating REAL\\n                                        )') \n",
      "\n",
      "**********************************************************************\n",
      "table , product_reviews\n",
      "[(744,)]\n",
      "   prod_id  num_reviews  play_star_rating review_difficulty  star_rating  \\\n",
      "0      630          180               4.0         Very Easy          4.8   \n",
      "1     2304           15               4.4              Easy          4.0   \n",
      "2     7280           85               4.1         Very Easy          3.5   \n",
      "3     7281           40               4.1         Very Easy          3.9   \n",
      "4     7499           89               2.9              Easy          2.5   \n",
      "5     7895           47               4.2         Very Easy          4.1   \n",
      "6     8293           57               4.6              Easy          4.5   \n",
      "7     9843           13               3.8         Very Easy          3.8   \n",
      "8    10214          228               4.2       Challenging          4.8   \n",
      "9    10220          337               4.3       Challenging          4.7   \n",
      "\n",
      "   val_star_rating  \n",
      "0              4.6  \n",
      "1              3.3  \n",
      "2              2.3  \n",
      "3              2.8  \n",
      "4              2.2  \n",
      "5              3.6  \n",
      "6              3.9  \n",
      "7              3.5  \n",
      "8              4.6  \n",
      "9              4.5  \n",
      "----------------------------------------------------------------------\n"
     ]
    }
   ],
   "source": [
    "for t in table_alls:\n",
    "    \n",
    "    print(t,'\\n')\n",
    "    print('**********************************************************************')\n",
    "    print(t[0],',',t[1])\n",
    "    \n",
    "    size = cur.execute(\"\"\"\n",
    "                       SELECT COUNT(*) \n",
    "                       FROM {};\"\"\".format(t[1])).fetchall()\n",
    "    \n",
    "    table = cur.execute(\"\"\"SELECT * \n",
    "                           FROM {} \n",
    "                           LIMIT 10;\"\"\".format(t[1])).fetchall()\n",
    "    \n",
    "    df4 = pd.DataFrame(table) \n",
    "    df4.columns = [j[0] for j in cur.description]\n",
    "    print(size)\n",
    "    print(df4)\n",
    "    print('----------------------------------------------------------------------')"
   ]
  },
  {
   "cell_type": "code",
   "execution_count": 13,
   "metadata": {
    "ExecuteTime": {
     "end_time": "2020-07-11T18:29:08.581037Z",
     "start_time": "2020-07-11T18:29:08.421741Z"
    }
   },
   "outputs": [
    {
     "name": "stdout",
     "output_type": "stream",
     "text": [
      "('prod_id', None, None, None, None, None, None)\n",
      "('prod_desc', None, None, None, None, None, None)\n",
      "('prod_long_desc', None, None, None, None, None, None)\n",
      "('theme_name', None, None, None, None, None, None)\n",
      "('ages', None, None, None, None, None, None)\n",
      "('piece_count', None, None, None, None, None, None)\n",
      "('set_name', None, None, None, None, None, None)\n",
      "('country', None, None, None, None, None, None)\n",
      "('list_price', None, None, None, None, None, None)\n",
      "('num_reviews', None, None, None, None, None, None)\n",
      "('play_star_rating', None, None, None, None, None, None)\n",
      "('review_difficulty', None, None, None, None, None, None)\n",
      "('star_rating', None, None, None, None, None, None)\n",
      "('val_star_rating', None, None, None, None, None, None)\n",
      "----------------------------------------------------------------------------------\n",
      "10870\n"
     ]
    },
    {
     "data": {
      "text/html": [
       "<div>\n",
       "<style scoped>\n",
       "    .dataframe tbody tr th:only-of-type {\n",
       "        vertical-align: middle;\n",
       "    }\n",
       "\n",
       "    .dataframe tbody tr th {\n",
       "        vertical-align: top;\n",
       "    }\n",
       "\n",
       "    .dataframe thead th {\n",
       "        text-align: right;\n",
       "    }\n",
       "</style>\n",
       "<table border=\"1\" class=\"dataframe\">\n",
       "  <thead>\n",
       "    <tr style=\"text-align: right;\">\n",
       "      <th></th>\n",
       "      <th>prod_id</th>\n",
       "      <th>prod_desc</th>\n",
       "      <th>prod_long_desc</th>\n",
       "      <th>theme_name</th>\n",
       "      <th>ages</th>\n",
       "      <th>piece_count</th>\n",
       "      <th>set_name</th>\n",
       "      <th>country</th>\n",
       "      <th>list_price</th>\n",
       "      <th>num_reviews</th>\n",
       "      <th>play_star_rating</th>\n",
       "      <th>review_difficulty</th>\n",
       "      <th>star_rating</th>\n",
       "      <th>val_star_rating</th>\n",
       "    </tr>\n",
       "  </thead>\n",
       "  <tbody>\n",
       "    <tr>\n",
       "      <td>0</td>\n",
       "      <td>75823</td>\n",
       "      <td>blah</td>\n",
       "      <td>blahblah</td>\n",
       "      <td>Angry Birds™</td>\n",
       "      <td>6-12</td>\n",
       "      <td>277</td>\n",
       "      <td>Bird Island Egg Heist</td>\n",
       "      <td>US</td>\n",
       "      <td>29.99</td>\n",
       "      <td>2.0</td>\n",
       "      <td>4.0</td>\n",
       "      <td>Average</td>\n",
       "      <td>4.5</td>\n",
       "      <td>4.0</td>\n",
       "    </tr>\n",
       "    <tr>\n",
       "      <td>1</td>\n",
       "      <td>75822</td>\n",
       "      <td>blah</td>\n",
       "      <td>blahblah</td>\n",
       "      <td>Angry Birds™</td>\n",
       "      <td>6-12</td>\n",
       "      <td>168</td>\n",
       "      <td>Piggy Plane Attack</td>\n",
       "      <td>US</td>\n",
       "      <td>19.99</td>\n",
       "      <td>2.0</td>\n",
       "      <td>4.0</td>\n",
       "      <td>Easy</td>\n",
       "      <td>5.0</td>\n",
       "      <td>4.0</td>\n",
       "    </tr>\n",
       "    <tr>\n",
       "      <td>2</td>\n",
       "      <td>75821</td>\n",
       "      <td>blah</td>\n",
       "      <td>blahblah</td>\n",
       "      <td>Angry Birds™</td>\n",
       "      <td>6-12</td>\n",
       "      <td>74</td>\n",
       "      <td>Piggy Car Escape</td>\n",
       "      <td>US</td>\n",
       "      <td>12.99</td>\n",
       "      <td>11.0</td>\n",
       "      <td>4.3</td>\n",
       "      <td>Easy</td>\n",
       "      <td>4.3</td>\n",
       "      <td>4.1</td>\n",
       "    </tr>\n",
       "    <tr>\n",
       "      <td>3</td>\n",
       "      <td>21030</td>\n",
       "      <td>blah</td>\n",
       "      <td>blahblah</td>\n",
       "      <td>Architecture</td>\n",
       "      <td>12+</td>\n",
       "      <td>1032</td>\n",
       "      <td>United States Capitol Building</td>\n",
       "      <td>US</td>\n",
       "      <td>99.99</td>\n",
       "      <td>23.0</td>\n",
       "      <td>3.6</td>\n",
       "      <td>Average</td>\n",
       "      <td>4.6</td>\n",
       "      <td>4.3</td>\n",
       "    </tr>\n",
       "    <tr>\n",
       "      <td>4</td>\n",
       "      <td>21035</td>\n",
       "      <td>blah</td>\n",
       "      <td>blahblah</td>\n",
       "      <td>Architecture</td>\n",
       "      <td>12+</td>\n",
       "      <td>744</td>\n",
       "      <td>Solomon R. Guggenheim Museum®</td>\n",
       "      <td>US</td>\n",
       "      <td>79.99</td>\n",
       "      <td>14.0</td>\n",
       "      <td>3.2</td>\n",
       "      <td>Challenging</td>\n",
       "      <td>4.6</td>\n",
       "      <td>4.1</td>\n",
       "    </tr>\n",
       "  </tbody>\n",
       "</table>\n",
       "</div>"
      ],
      "text/plain": [
       "   prod_id prod_desc prod_long_desc    theme_name  ages  piece_count  \\\n",
       "0    75823      blah       blahblah  Angry Birds™  6-12          277   \n",
       "1    75822      blah       blahblah  Angry Birds™  6-12          168   \n",
       "2    75821      blah       blahblah  Angry Birds™  6-12           74   \n",
       "3    21030      blah       blahblah  Architecture   12+         1032   \n",
       "4    21035      blah       blahblah  Architecture   12+          744   \n",
       "\n",
       "                         set_name country list_price  num_reviews  \\\n",
       "0           Bird Island Egg Heist      US      29.99          2.0   \n",
       "1              Piggy Plane Attack      US      19.99          2.0   \n",
       "2                Piggy Car Escape      US      12.99         11.0   \n",
       "3  United States Capitol Building      US      99.99         23.0   \n",
       "4   Solomon R. Guggenheim Museum®      US      79.99         14.0   \n",
       "\n",
       "   play_star_rating review_difficulty  star_rating  val_star_rating  \n",
       "0               4.0           Average          4.5              4.0  \n",
       "1               4.0              Easy          5.0              4.0  \n",
       "2               4.3              Easy          4.3              4.1  \n",
       "3               3.6           Average          4.6              4.3  \n",
       "4               3.2       Challenging          4.6              4.1  "
      ]
     },
     "execution_count": 13,
     "metadata": {},
     "output_type": "execute_result"
    }
   ],
   "source": [
    "cur.execute(\"\"\"SELECT * \n",
    "               FROM product_details\n",
    "               JOIN product_info\n",
    "               USING(prod_id)\n",
    "               JOIN product_pricing\n",
    "               USING(prod_id)\n",
    "               JOIN product_reviews\n",
    "               USING(prod_id);\"\"\")\n",
    "\n",
    "# Take results and create DataFrame\n",
    "df5 = pd.DataFrame(cur.fetchall()) \n",
    "for i in cur.description:\n",
    "    print(i)\n",
    "print('----------------------------------------------------------------------------------')\n",
    "df5.columns = [i[0] for i in cur.description]\n",
    "print(df5.shape[0])\n",
    "df5.head()"
   ]
  },
  {
   "cell_type": "code",
   "execution_count": 14,
   "metadata": {
    "ExecuteTime": {
     "end_time": "2020-07-11T18:29:28.184110Z",
     "start_time": "2020-07-11T18:29:28.159114Z"
    }
   },
   "outputs": [
    {
     "name": "stdout",
     "output_type": "stream",
     "text": [
      "<class 'pandas.core.frame.DataFrame'>\n",
      "RangeIndex: 10870 entries, 0 to 10869\n",
      "Data columns (total 14 columns):\n",
      "prod_id              10870 non-null int64\n",
      "prod_desc            10870 non-null object\n",
      "prod_long_desc       10870 non-null object\n",
      "theme_name           10870 non-null object\n",
      "ages                 10870 non-null object\n",
      "piece_count          10870 non-null int64\n",
      "set_name             10870 non-null object\n",
      "country              10870 non-null object\n",
      "list_price           10870 non-null object\n",
      "num_reviews          9449 non-null float64\n",
      "play_star_rating     9321 non-null float64\n",
      "review_difficulty    10870 non-null object\n",
      "star_rating          9449 non-null float64\n",
      "val_star_rating      9301 non-null float64\n",
      "dtypes: float64(4), int64(2), object(8)\n",
      "memory usage: 1.2+ MB\n"
     ]
    }
   ],
   "source": [
    "df5.info()"
   ]
  },
  {
   "cell_type": "code",
   "execution_count": 15,
   "metadata": {
    "ExecuteTime": {
     "end_time": "2020-07-11T18:29:29.317089Z",
     "start_time": "2020-07-11T18:29:29.189186Z"
    }
   },
   "outputs": [],
   "source": [
    "df5.to_csv('Lego_data_merged.csv', index=False)"
   ]
  },
  {
   "cell_type": "markdown",
   "metadata": {},
   "source": [
    "## Summary\n",
    "Nice work! You're working more and more independently through the workflow and ensuring data integrity! In this lab, you successfully executed an ETL process to merge different tables!"
   ]
  }
 ],
 "metadata": {
  "kernelspec": {
   "display_name": "Python 3",
   "language": "python",
   "name": "python3"
  },
  "language_info": {
   "codemirror_mode": {
    "name": "ipython",
    "version": 3
   },
   "file_extension": ".py",
   "mimetype": "text/x-python",
   "name": "python",
   "nbconvert_exporter": "python",
   "pygments_lexer": "ipython3",
   "version": "3.6.9"
  },
  "toc": {
   "base_numbering": 1,
   "nav_menu": {},
   "number_sections": true,
   "sideBar": true,
   "skip_h1_title": false,
   "title_cell": "Table of Contents",
   "title_sidebar": "Contents",
   "toc_cell": false,
   "toc_position": {},
   "toc_section_display": true,
   "toc_window_display": false
  },
  "varInspector": {
   "cols": {
    "lenName": 16,
    "lenType": 16,
    "lenVar": 40
   },
   "kernels_config": {
    "python": {
     "delete_cmd_postfix": "",
     "delete_cmd_prefix": "del ",
     "library": "var_list.py",
     "varRefreshCmd": "print(var_dic_list())"
    },
    "r": {
     "delete_cmd_postfix": ") ",
     "delete_cmd_prefix": "rm(",
     "library": "var_list.r",
     "varRefreshCmd": "cat(var_dic_list()) "
    }
   },
   "types_to_exclude": [
    "module",
    "function",
    "builtin_function_or_method",
    "instance",
    "_Feature"
   ],
   "window_display": false
  }
 },
 "nbformat": 4,
 "nbformat_minor": 2
}
